{
  "nbformat": 4,
  "nbformat_minor": 0,
  "metadata": {
    "colab": {
      "provenance": []
    },
    "kernelspec": {
      "name": "python3",
      "display_name": "Python 3"
    },
    "language_info": {
      "name": "python"
    }
  },
  "cells": [
    {
      "cell_type": "markdown",
      "source": [
        "Donovan Orozco \n",
        "\n",
        "JEsus Valencia\n",
        "\n",
        "\n"
      ],
      "metadata": {
        "id": "a3BEWQsSDvCk"
      }
    },
    {
      "cell_type": "code",
      "execution_count": 1,
      "metadata": {
        "id": "RhOdzJ6ZvObl"
      },
      "outputs": [],
      "source": [
        "%%capture\n",
        "!pip install rpy2==3.5.1"
      ]
    },
    {
      "cell_type": "code",
      "source": [
        "%load_ext rpy2.ipython"
      ],
      "metadata": {
        "id": "cBKI3ZuWvmTv"
      },
      "execution_count": 2,
      "outputs": []
    },
    {
      "cell_type": "code",
      "source": [
        "from google.colab import drive\n",
        "drive.mount('/content/drive', force_remount=True)"
      ],
      "metadata": {
        "colab": {
          "base_uri": "https://localhost:8080/"
        },
        "id": "GNtWzPJHvnCH",
        "outputId": "8d4921de-8632-4eda-e5f1-aaca66808e96"
      },
      "execution_count": 3,
      "outputs": [
        {
          "output_type": "stream",
          "name": "stdout",
          "text": [
            "Mounted at /content/drive\n"
          ]
        }
      ]
    },
    {
      "cell_type": "code",
      "source": [
        "%%R\n",
        "library(readr)\n",
        "library(magrittr)\n",
        "library(dplyr)"
      ],
      "metadata": {
        "id": "XuJoDmv1vrnV"
      },
      "execution_count": null,
      "outputs": []
    },
    {
      "cell_type": "code",
      "source": [
        "%%R\n",
        "data <- read.csv(\"drive/MyDrive/ds_salaries.csv\")"
      ],
      "metadata": {
        "id": "L4L_Echovuc2"
      },
      "execution_count": 5,
      "outputs": []
    },
    {
      "cell_type": "markdown",
      "source": [],
      "metadata": {
        "id": "sQaXvFtZDsDG"
      }
    },
    {
      "cell_type": "code",
      "source": [
        "%%R \n",
        "colnames(data)"
      ],
      "metadata": {
        "colab": {
          "base_uri": "https://localhost:8080/"
        },
        "id": "0_VnaC3x2DQh",
        "outputId": "71a8325c-a796-4d53-d3e7-fb24ad3c6876"
      },
      "execution_count": 7,
      "outputs": [
        {
          "output_type": "stream",
          "name": "stdout",
          "text": [
            " [1] \"work_year\"          \"experience_level\"   \"employment_type\"   \n",
            " [4] \"job_title\"          \"salary\"             \"salary_currency\"   \n",
            " [7] \"salary_in_usd\"      \"employee_residence\" \"remote_ratio\"      \n",
            "[10] \"company_location\"   \"company_size\"      \n"
          ]
        }
      ]
    },
    {
      "cell_type": "markdown",
      "source": [
        "1. LA columna \"salay_in_usd\"muestra el salario anual en usd de cada puesto de trabajo. Si un dolar equivale a 17.81 mxn, elabore una columna que muestre la conversion a salario mensual en pesos y muestre el top 10 de los titulos profesionales que tienen el mejor sueldo en ciencia de datos"
      ],
      "metadata": {
        "id": "9FRVmTr0v2_f"
      }
    },
    {
      "cell_type": "code",
      "source": [
        "%%R\n",
        "data%>%\n",
        "group_by(salary_in_usd) %>%\n",
        "summarize(cantidad = n())"
      ],
      "metadata": {
        "colab": {
          "base_uri": "https://localhost:8080/"
        },
        "id": "J1bLg2jZv3MP",
        "outputId": "84e35983-955c-493c-88dd-4340a7baa33e"
      },
      "execution_count": 8,
      "outputs": [
        {
          "output_type": "stream",
          "name": "stdout",
          "text": [
            "# A tibble: 1,035 × 2\n",
            "   salary_in_usd cantidad\n",
            "           <int>    <int>\n",
            " 1          5132        1\n",
            " 2          5409        2\n",
            " 3          5679        1\n",
            " 4          5707        1\n",
            " 5          5723        1\n",
            " 6          5882        1\n",
            " 7          6072        2\n",
            " 8          6270        1\n",
            " 9          6304        1\n",
            "10          6359        1\n",
            "# ℹ 1,025 more rows\n",
            "# ℹ Use `print(n = ...)` to see more rows\n"
          ]
        }
      ]
    },
    {
      "cell_type": "code",
      "source": [
        "%%R\n",
        "data %>% \n",
        "group_by(salary_in_usd) %>%\n",
        "mutate(conversion_pesos = (salary_in_usd * 17.81/12)) %>%\n",
        "select(job_title,salary_in_usd, conversion_pesos)%>%\n",
        "arrange(desc(conversion_pesos))%>%\n",
        "head(n=10)"
      ],
      "metadata": {
        "colab": {
          "base_uri": "https://localhost:8080/"
        },
        "id": "CzvuKZtn26sI",
        "outputId": "9f625c1e-b2b6-474c-b749-74c98b747066"
      },
      "execution_count": 13,
      "outputs": [
        {
          "output_type": "stream",
          "name": "stdout",
          "text": [
            "# A tibble: 10 × 3\n",
            "# Groups:   salary_in_usd [10]\n",
            "   job_title                          salary_in_usd conversion_pesos\n",
            "   <chr>                                      <int>            <dbl>\n",
            " 1 Research Scientist                        450000          667875 \n",
            " 2 Data Analyst                              430967          639627.\n",
            " 3 AI Scientist                              423834          629040.\n",
            " 4 Applied Machine Learning Scientist        423000          627802.\n",
            " 5 Principal Data Scientist                  416000          617413.\n",
            " 6 Data Scientist                            412000          611477.\n",
            " 7 Data Analytics Lead                       405000          601087.\n",
            " 8 Data Analyst                              385000          571404.\n",
            " 9 Applied Data Scientist                    380000          563983.\n",
            "10 Data Architect                            376080          558165.\n"
          ]
        }
      ]
    },
    {
      "cell_type": "markdown",
      "source": [
        "2. Suponga que desea aplicar este año para un puesto de los presentados en este conjunto de datos. Si su nivel de experencia es EN y quiere obtener el sueldo más alto posible, ¿Qué título le conviene más obtener? Obtenga el salario promedio de cada puesto cuyo año sea el año actual para encintrar la respuesta y muestrela junto con su salario mensual en mxn\n"
      ],
      "metadata": {
        "id": "IzbcZwFJv3W9"
      }
    },
    {
      "cell_type": "code",
      "source": [
        "%%R\n",
        "data %>% \n",
        "group_by(experience_level) %>%\n",
        "filter(experience_level == \"EN\")%>%\n",
        "filter(work_year == \"2023\")%>%\n",
        "mutate(conversion_pesos = (salary_in_usd * 17.81)/12) %>%\n",
        "select(work_year,job_title, conversion_pesos)%>%\n",
        "arrange(desc(conversion_pesos))%>%\n",
        "head(1)"
      ],
      "metadata": {
        "colab": {
          "base_uri": "https://localhost:8080/"
        },
        "id": "VzexVcuYv3dH",
        "outputId": "48df5510-a5e0-48bc-ee0d-0cca32ce23e7"
      },
      "execution_count": 24,
      "outputs": [
        {
          "output_type": "stream",
          "name": "stdout",
          "text": [
            "Adding missing grouping variables: `experience_level`\n",
            "# A tibble: 1 × 4\n",
            "# Groups:   experience_level [1]\n",
            "  experience_level work_year job_title          conversion_pesos\n",
            "  <chr>                <int> <chr>                         <dbl>\n",
            "1 EN                    2023 Research Scientist          326517.\n"
          ]
        }
      ]
    },
    {
      "cell_type": "markdown",
      "source": [
        "3. Existen registros de trabajadores que radican en México. Averigue qué título profesional, nivel de expenencia y salario mensual en mxn tienen y ordene los registros de mayor a menor por su salario."
      ],
      "metadata": {
        "id": "tQd-wTvev3ly"
      }
    },
    {
      "cell_type": "code",
      "source": [
        "%%R\n",
        "data %>%\n",
        "filter(grepl(\"MX\", company_location)) %>%\n",
        "mutate(conversion_pesos = salary_in_usd * 17.81 / 12) %>%\n",
        "select(job_title, experience_level, conversion_pesos) %>%\n",
        "arrange(desc(conversion_pesos)) %>%\n",
        "head(n=10)"
      ],
      "metadata": {
        "colab": {
          "base_uri": "https://localhost:8080/"
        },
        "id": "NYaox6hJv3rb",
        "outputId": "0f6f5fe0-6060-4602-adb0-1a6491662497"
      },
      "execution_count": 20,
      "outputs": [
        {
          "output_type": "stream",
          "name": "stdout",
          "text": [
            "                   job_title experience_level conversion_pesos\n",
            "1  Machine Learning Engineer               SE        378462.50\n",
            "2  Machine Learning Engineer               SE        274570.83\n",
            "3       Data Science Manager               SE        222625.00\n",
            "4       Data Science Manager               SE        133575.00\n",
            "5              Data Engineer               MI        106860.00\n",
            "6              Data Engineer               MI         89050.00\n",
            "7      Data Science Engineer               SE         89050.00\n",
            "8  Machine Learning Engineer               MI         53430.00\n",
            "9              Data Engineer               SE         49735.91\n",
            "10            Data Scientist               MI         44525.00\n"
          ]
        }
      ]
    },
    {
      "cell_type": "markdown",
      "source": [
        "4. Para alquien con experiencia \"EN\" que desea buscar un puesto de tiempo completo y ganar lo más posible, ¿le conviene trabajar de \n",
        "manera remota o presencial?"
      ],
      "metadata": {
        "id": "FiQ-ppH2v3yP"
      }
    },
    {
      "cell_type": "code",
      "source": [
        "%%R\n",
        "data %>% \n",
        "filter(grepl(\"EN\", experience_level)) %>%\n",
        "filter(employment_type == \"FT\") %>%\n",
        "group_by(remote_ratio) %>%\n",
        "summarize(mean_salary_in_usd = mean(salary_in_usd))\n",
        "\n",
        "#Le conviene trabajar de manera presencial"
      ],
      "metadata": {
        "colab": {
          "base_uri": "https://localhost:8080/"
        },
        "id": "mHrvPrg-v33r",
        "outputId": "e2b0aebc-520f-439f-f797-ca2ba59fb105"
      },
      "execution_count": 22,
      "outputs": [
        {
          "output_type": "stream",
          "name": "stdout",
          "text": [
            "# A tibble: 3 × 2\n",
            "  remote_ratio mean_salary_in_usd\n",
            "         <int>              <dbl>\n",
            "1            0            104582.\n",
            "2           50             65344 \n",
            "3          100             67016.\n"
          ]
        }
      ]
    },
    {
      "cell_type": "markdown",
      "source": [
        "5. Cantidad de registros donde el país de residencia de la compañia y del trabajador son diferentes"
      ],
      "metadata": {
        "id": "Ca2nZuEvv397"
      }
    },
    {
      "cell_type": "code",
      "source": [
        " %%R\n",
        "data %>% \n",
        "group_by(employee_residence) %>%\n",
        "filter(company_location != employee_residence)%>%\n",
        "nrow()"
      ],
      "metadata": {
        "colab": {
          "base_uri": "https://localhost:8080/"
        },
        "id": "tijWkxDDv4CX",
        "outputId": "b80887e8-fb20-4098-a496-f28cbd7fdfc3"
      },
      "execution_count": 17,
      "outputs": [
        {
          "output_type": "stream",
          "name": "stdout",
          "text": [
            "[1] 96\n"
          ]
        }
      ]
    },
    {
      "cell_type": "markdown",
      "source": [
        "6. Salario mensual promedio en pesos mexicanos para un trabajador con experiencia \"EN° en una empresa de tamaño S, L y M de acuerdo con los datos del año **2022**"
      ],
      "metadata": {
        "id": "Q-ZH8qR9y9Yq"
      }
    },
    {
      "cell_type": "code",
      "source": [
        "%%R\n",
        "data %>% \n",
        "filter(experience_level == \"EN\" & work_year == \"2022\") %>%\n",
        "mutate(Salario_mensual_mx = (salary_in_usd * 17.81)/12) %>%\n",
        "group_by(company_size) %>%\n",
        "summarise(Prom_Salario = mean(Salario_mensual_mx))"
      ],
      "metadata": {
        "colab": {
          "base_uri": "https://localhost:8080/"
        },
        "id": "m6w0Zq6qy9fb",
        "outputId": "b537608a-deb7-4595-bccf-9d1762cf16b3"
      },
      "execution_count": 23,
      "outputs": [
        {
          "output_type": "stream",
          "name": "stdout",
          "text": [
            "# A tibble: 3 × 2\n",
            "  company_size Prom_Salario\n",
            "  <chr>               <dbl>\n",
            "1 L                 105853.\n",
            "2 M                 127823.\n",
            "3 S                  83360.\n"
          ]
        }
      ]
    },
    {
      "cell_type": "markdown",
      "source": [
        "7. Top 10 Cantidad de trabajadores de cada pais registrado que trabajan en una compañía ubicada en Estados Unidos (ordenados de mayor a menor cantidad)"
      ],
      "metadata": {
        "id": "3Ht4Mvlzy90Y"
      }
    },
    {
      "cell_type": "code",
      "source": [
        "%%R\n",
        "data %>% \n",
        "filter(company_location == \"US\") %>%\n",
        "group_by(employee_residence) %>%\n",
        "summarize(Pais = n()) %>% \n",
        "arrange(desc(Pais)) %>%\n",
        "head(n = 10)"
      ],
      "metadata": {
        "colab": {
          "base_uri": "https://localhost:8080/"
        },
        "id": "Y-meeVkQy95c",
        "outputId": "be97fad5-94ca-43b0-e091-3c78740a185b"
      },
      "execution_count": 14,
      "outputs": [
        {
          "output_type": "stream",
          "name": "stdout",
          "text": [
            "# A tibble: 10 × 2\n",
            "   employee_residence  Pais\n",
            "   <chr>              <int>\n",
            " 1 US                  2999\n",
            " 2 IN                     7\n",
            " 3 BR                     3\n",
            " 4 ES                     3\n",
            " 5 AR                     2\n",
            " 6 BO                     2\n",
            " 7 PT                     2\n",
            " 8 RU                     2\n",
            " 9 BE                     1\n",
            "10 BG                     1\n"
          ]
        }
      ]
    },
    {
      "cell_type": "markdown",
      "source": [
        "8. ¿Cuál es la equivalencia en promedio de cada moneda utilizada para la conversión a dólares?"
      ],
      "metadata": {
        "id": "g9moYfSGy-Cm"
      }
    },
    {
      "cell_type": "code",
      "source": [
        "%%R\n",
        "data %>% \n",
        "select(salary, salary_currency,salary_in_usd) %>% \n",
        "distinct(salary_currency, .keep_all = TRUE) %>% \n",
        "mutate(tasa_de_cambio = salary_in_usd / salary) %>% \n",
        "select(salary_currency, tasa_de_cambio)\n"
      ],
      "metadata": {
        "colab": {
          "base_uri": "https://localhost:8080/"
        },
        "id": "tVUdgBkYzgRe",
        "outputId": "d024dd9f-3ead-4cd6-9b53-b1e0fcd4a096"
      },
      "execution_count": 25,
      "outputs": [
        {
          "output_type": "stream",
          "name": "stdout",
          "text": [
            "   salary_currency tasa_de_cambio\n",
            "1              EUR    1.073087500\n",
            "2              USD    1.000000000\n",
            "3              INR    0.012717576\n",
            "4              HKD    0.127572549\n",
            "5              CHF    1.046962963\n",
            "6              GBP    1.215210526\n",
            "7              AUD    0.683180000\n",
            "8              SGD    0.750200000\n",
            "9              CAD    0.739327273\n",
            "10             ILS    0.282556000\n",
            "11             BRL    0.193520833\n",
            "12             THB    0.029453000\n",
            "13             PLN    0.227935897\n",
            "14             HUF    0.002679394\n",
            "15             CZK    0.042766667\n",
            "16             DKK    0.158941667\n",
            "17             JPY    0.009101647\n",
            "18             MXN    0.046543056\n",
            "19             TRY    0.112064815\n",
            "20             CLP    0.001317039\n"
          ]
        }
      ]
    }
  ]
}